{
 "cells": [
  {
   "cell_type": "markdown",
   "metadata": {},
   "source": [
    "## This is an example of text classification. In this notebook, I go through a step by step process to build a deep learning model(BiLSTM) using Keras library in Python"
   ]
  },
  {
   "cell_type": "code",
   "execution_count": 1,
   "metadata": {},
   "outputs": [
    {
     "name": "stderr",
     "output_type": "stream",
     "text": [
      "/home/anshul.jain/anaconda3/lib/python3.6/site-packages/ipykernel_launcher.py:12: FutureWarning: Passing a negative integer is deprecated in version 1.0 and will not be supported in future version. Instead, use None to not limit the column width.\n",
      "  if sys.path[0] == '':\n",
      "/home/anshul.jain/anaconda3/lib/python3.6/site-packages/nltk/twitter/__init__.py:20: UserWarning: The twython library has not been installed. Some functionality from the twitter package will not be available.\n",
      "  warnings.warn(\"The twython library has not been installed. \"\n"
     ]
    }
   ],
   "source": [
    "# loading general libraries\n",
    "\n",
    "import pandas as pd\n",
    "import re\n",
    "import string\n",
    "import numpy as np\n",
    "import ast\n",
    "from sklearn.preprocessing import MultiLabelBinarizer\n",
    "import matplotlib.pyplot as plt\n",
    "from tqdm import tqdm\n",
    "tqdm.pandas()\n",
    "pd.set_option('display.max_colwidth', -1)\n",
    "import warnings\n",
    "from pandas.core.common import SettingWithCopyWarning\n",
    "warnings.simplefilter(action=\"ignore\", category=SettingWithCopyWarning)\n",
    "import nltk\n",
    "import matplotlib.pyplot as plt\n",
    "from nltk.corpus import stopwords \n",
    "set(stopwords.words('english'))\n",
    "from nltk.tokenize import word_tokenize\n",
    "stop_words = set(stopwords.words('english'))\n",
    "from nltk.sentiment.vader import SentimentIntensityAnalyzer"
   ]
  },
  {
   "cell_type": "code",
   "execution_count": 2,
   "metadata": {},
   "outputs": [
    {
     "name": "stderr",
     "output_type": "stream",
     "text": [
      "Using TensorFlow backend.\n"
     ]
    }
   ],
   "source": [
    "# loading keras libraries\n",
    "\n",
    "from keras.models import Sequential\n",
    "from keras.layers import Dense,Embedding,LSTM\n",
    "from keras.layers.embeddings import Embedding\n",
    "from keras.layers import Dropout\n",
    "from keras.layers import Input\n",
    "from keras.layers import Bidirectional, LSTM\n",
    "from keras.layers import TimeDistributed\n",
    "from keras.layers import Flatten\n",
    "from keras.models import load_model\n",
    "from keras.models import Model\n",
    "from keras.preprocessing.sequence import pad_sequences\n",
    "from keras.layers import Dense, Embedding, LSTM, SpatialDropout1D\n",
    "from sklearn.model_selection import train_test_split\n",
    "from keras.utils.np_utils import to_categorical\n",
    "from keras.callbacks import EarlyStopping\n",
    "from sklearn.metrics import classification_report,accuracy_score,confusion_matrix,f1_score,precision_score,recall_score\n",
    "from sklearn.model_selection import train_test_split\n",
    "from tensorflow.python.keras.preprocessing.text import Tokenizer\n",
    "from tensorflow.python.keras.preprocessing.sequence import pad_sequences\n",
    "from keras.callbacks import EarlyStopping\n",
    "from keras.callbacks import ModelCheckpoint\n",
    "from tensorflow.python.keras.preprocessing.text import Tokenizer\n",
    "from tensorflow.python.keras.preprocessing.sequence import pad_sequences\n",
    "from tensorflow.keras import Input\n",
    "from tensorflow.keras.layers import *\n",
    "from keras.models import Model\n",
    "import tensorflow.compat.v1.keras.backend as K\n",
    "import tensorflow as tf\n",
    "tf.compat.v1.disable_eager_execution()\n",
    "from tensorflow.keras import Model\n",
    "from tensorflow.keras.models import Sequential"
   ]
  },
  {
   "cell_type": "code",
   "execution_count": 3,
   "metadata": {},
   "outputs": [
    {
     "name": "stderr",
     "output_type": "stream",
     "text": [
      "100%|██████████| 14452/14452 [00:02<00:00, 5915.11it/s]"
     ]
    },
    {
     "name": "stdout",
     "output_type": "stream",
     "text": [
      "shape of final dataset:\n",
      "(14452, 4)\n"
     ]
    },
    {
     "name": "stderr",
     "output_type": "stream",
     "text": [
      "\n"
     ]
    }
   ],
   "source": [
    "#loading the data set and doing some cleaning and transformations\n",
    "\n",
    "REPLACE_BY_SPACE_RE = re.compile('[/(){}\\[\\]\\|@,;]')\n",
    "BAD_SYMBOLS_RE = re.compile('[^0-9a-z #+_]')\n",
    "remove_num = re.compile('[0-9]')\n",
    "\n",
    "def clean_text(text):\n",
    "    try:\n",
    "        text = text.lower()\n",
    "        text = REPLACE_BY_SPACE_RE.sub(' ', text)\n",
    "        text = BAD_SYMBOLS_RE.sub(' ', text)\n",
    "        text = remove_num.sub(' ',text)\n",
    "        word_tokens = word_tokenize(text)\n",
    "        filtered_sentence = [w for w in word_tokens]# if not w in stop_words]\n",
    "        text = ' '.join(word for word in filtered_sentence)\n",
    "        text = text.replace(' p ',' ')\n",
    "\n",
    "        return text\n",
    "    except:\n",
    "        return None\n",
    "    \n",
    "df_final = pd.read_csv('Usecase3_Dataset.csv')\n",
    "df_final = df_final.drop_duplicates()\n",
    "df_final['final_text'] = df_final['text'].progress_apply(clean_text)\n",
    "target_names = sorted(list(set(df_final.airline_sentiment)))\n",
    "print('shape of final dataset:')\n",
    "print(df_final.shape)"
   ]
  },
  {
   "cell_type": "code",
   "execution_count": 4,
   "metadata": {},
   "outputs": [
    {
     "data": {
      "image/png": "[encoded data removed]",
      "text/plain": [
       "<Figure size 1008x432 with 1 Axes>"
      ]
     },
     "metadata": {
      "needs_background": "light"
     },
     "output_type": "display_data"
    }
   ],
   "source": [
    "#plot of count of different classes\n",
    "\n",
    "df_final['airline_sentiment'].value_counts().plot(kind = 'bar', figsize=(14, 6));\n",
    "plt.xlabel('Class')\n",
    "plt.ylabel('Count')\n",
    "plt.title('Histogram of count for different classes');"
   ]
  },
  {
   "cell_type": "markdown",
   "metadata": {},
   "source": [
    "## First I do a basic sentiment analysis exercise using the library Vader in Python"
   ]
  },
  {
   "cell_type": "code",
   "execution_count": 6,
   "metadata": {},
   "outputs": [
    {
     "name": "stderr",
     "output_type": "stream",
     "text": [
      "100%|██████████| 14452/14452 [00:03<00:00, 3933.41it/s]\n",
      "100%|██████████| 14452/14452 [00:00<00:00, 737879.72it/s]\n"
     ]
    }
   ],
   "source": [
    "def classify_score(x):\n",
    "    if x < 0:\n",
    "        return \"negative\"\n",
    "    elif x == 0:\n",
    "        return \"neutral\"\n",
    "    else:\n",
    "        return \"positive\"\n",
    "\n",
    "sid = SentimentIntensityAnalyzer()\n",
    "\n",
    "df_final['scores'] = df_final['text'].progress_apply(lambda x: sid.polarity_scores(x))\n",
    "df_final['compound']  = df_final['scores'].progress_apply(lambda x: x['compound'])\n",
    "df_final['vader_sentiment'] = df_final['compound'].apply(classify_score)"
   ]
  },
  {
   "cell_type": "code",
   "execution_count": 7,
   "metadata": {},
   "outputs": [
    {
     "name": "stdout",
     "output_type": "stream",
     "text": [
      "              precision    recall  f1-score   support\n",
      "\n",
      "    negative       0.90      0.50      0.65      9087\n",
      "     neutral       0.40      0.42      0.41      3067\n",
      "    positive       0.33      0.87      0.48      2298\n",
      "\n",
      "    accuracy                           0.54     14452\n",
      "   macro avg       0.54      0.60      0.51     14452\n",
      "weighted avg       0.70      0.54      0.57     14452\n",
      "\n"
     ]
    }
   ],
   "source": [
    "# classification report of analysis using Vader\n",
    "\n",
    "y = pd.get_dummies(df_final['airline_sentiment']).values\n",
    "yy = np.argmax(y, axis=1)\n",
    "y_pred = pd.get_dummies(df_final['vader_sentiment']).values\n",
    "y_pred_index = np.argmax(y_pred, axis=1)\n",
    "\n",
    "print(classification_report(yy, y_pred_index,target_names = target_names))"
   ]
  },
  {
   "cell_type": "markdown",
   "metadata": {},
   "source": [
    "## Vader here manages to give an F1 score of 0.54 which is not very high. So I decided to try a bi-LSTM model"
   ]
  },
  {
   "cell_type": "markdown",
   "metadata": {},
   "source": [
    "## Preparing the data by converting to numerical format"
   ]
  },
  {
   "cell_type": "code",
   "execution_count": 8,
   "metadata": {},
   "outputs": [
    {
     "name": "stdout",
     "output_type": "stream",
     "text": [
      "Shape of label tensor: (14452, 3)\n",
      "Shape of training set: 10116\n",
      "Shape of test set: 4336\n"
     ]
    }
   ],
   "source": [
    "#train_test_split,converting text to numerical content\n",
    "\n",
    "tokenizer_obj = Tokenizer()\n",
    "\n",
    "X = df_final['final_text'].values\n",
    "y = pd.get_dummies(df_final['airline_sentiment']).values\n",
    "print('Shape of label tensor:', y.shape)\n",
    "\n",
    "X_train, X_test, y_train, y_test = train_test_split(X, y, test_size = 0.3, random_state = 42, stratify = y)\n",
    "print('Shape of training set:', len(y_train))\n",
    "print('Shape of test set:', len(y_test))\n",
    "\n",
    "total_content = df_final['final_text'].values\n",
    "\n",
    "tokenizer_obj.fit_on_texts(total_content)\n",
    "\n",
    "# pad sequences\n",
    "\n",
    "max_length = max([len(s.split()) for s in total_content])\n",
    "\n",
    "# define vocabulary size \n",
    "\n",
    "vocab_size = len(tokenizer_obj.word_index)+1\n",
    "\n",
    "X_train_tokens = tokenizer_obj.texts_to_sequences(X_train)\n",
    "X_test_tokens = tokenizer_obj.texts_to_sequences(X_test)\n",
    "\n",
    "X_train_pad = pad_sequences(X_train_tokens,maxlen=max_length,padding='post')\n",
    "X_test_pad = pad_sequences(X_test_tokens,maxlen=max_length,padding='post')"
   ]
  },
  {
   "cell_type": "markdown",
   "metadata": {},
   "source": [
    "## I use BiLSTM because it has the advantage of reading the text from start to end as well as other way round. Further it's gated structure helps in remembering key information even further away from current word in the sequence. \n",
    "\n",
    "## configuration of main model,loss function is categorical_crossentropy for multiclass classification, final activation function is softmax, metric is accuracy "
   ]
  },
  {
   "cell_type": "code",
   "execution_count": 9,
   "metadata": {},
   "outputs": [],
   "source": [
    "# main model\n",
    "\n",
    "input = Input(shape=(max_length,))\n",
    "model = Embedding(vocab_size,300,input_length=max_length)(input)\n",
    "model = Bidirectional (LSTM (300,return_sequences=True,dropout=0.5),merge_mode='concat')(model)\n",
    "model = TimeDistributed(Dense(300,activation='relu'))(model)\n",
    "model = Flatten()(model)\n",
    "\n",
    "model = Dense(300,activation='relu')(model)\n",
    "model = Dense(200,activation='relu')(model)\n",
    "model = Dense(100,activation='relu')(model)\n",
    "model = Dense(50,activation='relu')(model)\n",
    "model = Dense(25,activation='relu')(model)\n",
    "output = Dense(3,activation='softmax')(model)\n",
    "\n",
    "model = Model(input,output)\n",
    "model.compile(loss='categorical_crossentropy',optimizer='adam', metrics=['accuracy'])"
   ]
  },
  {
   "cell_type": "code",
   "execution_count": 10,
   "metadata": {},
   "outputs": [
    {
     "name": "stdout",
     "output_type": "stream",
     "text": [
      "Train on 10116 samples\n",
      "Epoch 1/10\n",
      "10116/10116 [==============================] - 48s 5ms/sample - loss: 0.6742 - accuracy: 0.7077\n",
      "Epoch 2/10\n",
      "10116/10116 [==============================] - 47s 5ms/sample - loss: 0.4657 - accuracy: 0.8190\n",
      "Epoch 3/10\n",
      "10116/10116 [==============================] - 48s 5ms/sample - loss: 0.3344 - accuracy: 0.8723\n",
      "Epoch 4/10\n",
      "10116/10116 [==============================] - 49s 5ms/sample - loss: 0.2375 - accuracy: 0.9138\n",
      "Epoch 5/10\n",
      "10116/10116 [==============================] - 48s 5ms/sample - loss: 0.1763 - accuracy: 0.9325\n",
      "Epoch 6/10\n",
      "10116/10116 [==============================] - 47s 5ms/sample - loss: 0.1349 - accuracy: 0.9529\n",
      "Epoch 7/10\n",
      "10116/10116 [==============================] - 47s 5ms/sample - loss: 0.1131 - accuracy: 0.9591\n",
      "Epoch 8/10\n",
      "10116/10116 [==============================] - 46s 5ms/sample - loss: 0.0934 - accuracy: 0.9684\n",
      "Epoch 9/10\n",
      "10116/10116 [==============================] - 47s 5ms/sample - loss: 0.0729 - accuracy: 0.9768\n",
      "Epoch 10/10\n",
      "10116/10116 [==============================] - 47s 5ms/sample - loss: 0.0687 - accuracy: 0.9757\n"
     ]
    },
    {
     "data": {
      "text/plain": [
       "<tensorflow.python.keras.callbacks.History at 0x7f0858209160>"
      ]
     },
     "execution_count": 10,
     "metadata": {},
     "output_type": "execute_result"
    }
   ],
   "source": [
    "model.fit(X_train_pad,y_train, epochs = 10, verbose = 1)"
   ]
  },
  {
   "cell_type": "code",
   "execution_count": 11,
   "metadata": {},
   "outputs": [
    {
     "name": "stdout",
     "output_type": "stream",
     "text": [
      "WARNING:tensorflow:From /home/anshul.jain/anaconda3/lib/python3.6/site-packages/tensorflow/python/keras/engine/training_v1.py:2070: Model.state_updates (from tensorflow.python.keras.engine.training) is deprecated and will be removed in a future version.\n",
      "Instructions for updating:\n",
      "This property should not be used in TensorFlow 2.0, as updates are applied automatically.\n",
      "              precision    recall  f1-score   support\n",
      "\n",
      "    negative       0.83      0.89      0.86      2726\n",
      "     neutral       0.61      0.51      0.56       920\n",
      "    positive       0.69      0.66      0.67       690\n",
      "\n",
      "    accuracy                           0.77      4336\n",
      "   macro avg       0.71      0.69      0.70      4336\n",
      "weighted avg       0.76      0.77      0.76      4336\n",
      "\n"
     ]
    }
   ],
   "source": [
    "# prediction on test data\n",
    "\n",
    "yy = np.argmax(y_test, axis=1) # Convert one-hot to index\n",
    "y_pred = model.predict(X_test_pad)\n",
    "print(classification_report(yy, np.argmax(y_pred, axis=1),target_names = target_names))"
   ]
  },
  {
   "cell_type": "markdown",
   "metadata": {},
   "source": [
    "## The model built here manages to give an F1 score of 0.77 on the test dataset. It is much better than what we got with Vader. Having said that, the F1 score is not very high but it is most likely the best possible with the given dataset, since this is a pretty efficient model for text classification. A K-fold cross validation on different parts of the data set might give slightly variable F1 score though.\n",
    "\n",
    "## In order to get higher accuracy, either we need more data or we need to use transfer learning techniques such as BERT, etc that can use more relevant embeddings.\n"
   ]
  },
  {
   "cell_type": "markdown",
   "metadata": {},
   "source": [
    "## Theme/topic modelling of tweets"
   ]
  },
  {
   "cell_type": "code",
   "execution_count": 12,
   "metadata": {},
   "outputs": [],
   "source": [
    "#some additional libraries\n",
    "\n",
    "import nltk\n",
    "from nltk.tokenize import RegexpTokenizer\n",
    "from nltk.corpus import stopwords\n",
    "from sklearn.decomposition import LatentDirichletAllocation\n",
    "from sklearn.feature_extraction.text import CountVectorizer"
   ]
  },
  {
   "cell_type": "code",
   "execution_count": 13,
   "metadata": {},
   "outputs": [],
   "source": [
    "#cleaning functions\n",
    "\n",
    "def remove_links(tweet):\n",
    "    '''Takes a string and removes web links from it'''\n",
    "    tweet = re.sub(r'http\\S+', '', tweet) # remove http links\n",
    "    tweet = re.sub(r'bit.ly/\\S+', '', tweet) # remove bitly links\n",
    "    tweet = tweet.strip('[link]') # remove [links]\n",
    "    return tweet\n",
    "\n",
    "def remove_users(tweet):\n",
    "    '''Takes a string and removes retweet and @user information'''\n",
    "    tweet = re.sub('(RT\\s@[A-Za-z]+[A-Za-z0-9-_]+)', '', tweet) # remove retweet\n",
    "    tweet = re.sub('(@[A-Za-z]+[A-Za-z0-9-_]+)', '', tweet) # remove tweeted at\n",
    "    return tweet"
   ]
  },
  {
   "cell_type": "code",
   "execution_count": 14,
   "metadata": {},
   "outputs": [],
   "source": [
    "my_stopwords = nltk.corpus.stopwords.words('english')\n",
    "my_punctuation = '!\"$%&\\'()*+,-./:;<=>?[\\\\]^_`{|}~•@'\n",
    "\n",
    "# cleaning function\n",
    "\n",
    "def clean_tweet(tweet, bigrams=False):\n",
    "    tweet = remove_users(tweet)\n",
    "    tweet = remove_links(tweet)\n",
    "    tweet = tweet.lower() # lower case\n",
    "    tweet = re.sub('['+my_punctuation + ']+', ' ', tweet) # strip punctuation\n",
    "    tweet = re.sub('\\s+', ' ', tweet) #remove double spacing\n",
    "    tweet = re.sub('([0-9]+)', '', tweet) # remove numbers\n",
    "    tweet_token_list = [word for word in tweet.split(' ')\n",
    "                            if word not in my_stopwords] # remove stopwords\n",
    "    tweet = ' '.join(tweet_token_list)\n",
    "    return tweet"
   ]
  },
  {
   "cell_type": "code",
   "execution_count": 15,
   "metadata": {},
   "outputs": [
    {
     "name": "stderr",
     "output_type": "stream",
     "text": [
      "100%|██████████| 14452/14452 [00:00<00:00, 16279.65it/s]\n"
     ]
    }
   ],
   "source": [
    "df_final['clean_tweet'] = df_final['text'].progress_apply(clean_tweet)"
   ]
  },
  {
   "cell_type": "code",
   "execution_count": 16,
   "metadata": {},
   "outputs": [],
   "source": [
    "# the vectorizer object will be used to transform text to vector form\n",
    "vectorizer = CountVectorizer(max_df=0.8, min_df=100, token_pattern='\\w+|\\$[\\d\\.]+|\\S+')\n",
    "\n",
    "# apply transformation\n",
    "tf = vectorizer.fit_transform(df_final['clean_tweet']).toarray()\n",
    "\n",
    "# tf_feature_names tells us what word each column in the matrix represents\n",
    "tf_feature_names = vectorizer.get_feature_names()"
   ]
  },
  {
   "cell_type": "code",
   "execution_count": 17,
   "metadata": {},
   "outputs": [
    {
     "data": {
      "text/plain": [
       "LatentDirichletAllocation(n_components=5, random_state=0)"
      ]
     },
     "execution_count": 17,
     "metadata": {},
     "output_type": "execute_result"
    }
   ],
   "source": [
    "number_of_topics = 5\n",
    "model = LatentDirichletAllocation(n_components=number_of_topics, random_state=0)\n",
    "model.fit(tf)"
   ]
  },
  {
   "cell_type": "code",
   "execution_count": 18,
   "metadata": {},
   "outputs": [
    {
     "data": {
      "text/html": [
       "<div>\n",
       "<style scoped>\n",
       "    .dataframe tbody tr th:only-of-type {\n",
       "        vertical-align: middle;\n",
       "    }\n",
       "\n",
       "    .dataframe tbody tr th {\n",
       "        vertical-align: top;\n",
       "    }\n",
       "\n",
       "    .dataframe thead th {\n",
       "        text-align: right;\n",
       "    }\n",
       "</style>\n",
       "<table border=\"1\" class=\"dataframe\">\n",
       "  <thead>\n",
       "    <tr style=\"text-align: right;\">\n",
       "      <th></th>\n",
       "      <th>Topic 0 words</th>\n",
       "      <th>Topic 0 weights</th>\n",
       "      <th>Topic 1 words</th>\n",
       "      <th>Topic 1 weights</th>\n",
       "      <th>Topic 2 words</th>\n",
       "      <th>Topic 2 weights</th>\n",
       "      <th>Topic 3 words</th>\n",
       "      <th>Topic 3 weights</th>\n",
       "      <th>Topic 4 words</th>\n",
       "      <th>Topic 4 weights</th>\n",
       "    </tr>\n",
       "  </thead>\n",
       "  <tbody>\n",
       "    <tr>\n",
       "      <th>0</th>\n",
       "      <td>flight</td>\n",
       "      <td>3826.2</td>\n",
       "      <td>service</td>\n",
       "      <td>958.2</td>\n",
       "      <td>thanks</td>\n",
       "      <td>1039.7</td>\n",
       "      <td>thank</td>\n",
       "      <td>583.2</td>\n",
       "      <td>flights</td>\n",
       "      <td>386.9</td>\n",
       "    </tr>\n",
       "    <tr>\n",
       "      <th>1</th>\n",
       "      <td>cancelled</td>\n",
       "      <td>1038.2</td>\n",
       "      <td>customer</td>\n",
       "      <td>748.2</td>\n",
       "      <td>back</td>\n",
       "      <td>496.6</td>\n",
       "      <td>would</td>\n",
       "      <td>443.7</td>\n",
       "      <td>airline</td>\n",
       "      <td>384.3</td>\n",
       "    </tr>\n",
       "    <tr>\n",
       "      <th>2</th>\n",
       "      <td>delayed</td>\n",
       "      <td>529.9</td>\n",
       "      <td>hold</td>\n",
       "      <td>535.0</td>\n",
       "      <td>get</td>\n",
       "      <td>423.1</td>\n",
       "      <td>like</td>\n",
       "      <td>425.5</td>\n",
       "      <td>fly</td>\n",
       "      <td>375.0</td>\n",
       "    </tr>\n",
       "    <tr>\n",
       "      <th>3</th>\n",
       "      <td>plane</td>\n",
       "      <td>508.2</td>\n",
       "      <td>phone</td>\n",
       "      <td>426.0</td>\n",
       "      <td>please</td>\n",
       "      <td>329.6</td>\n",
       "      <td>bag</td>\n",
       "      <td>376.2</td>\n",
       "      <td>way</td>\n",
       "      <td>291.2</td>\n",
       "    </tr>\n",
       "    <tr>\n",
       "      <th>4</th>\n",
       "      <td>flightled</td>\n",
       "      <td>499.2</td>\n",
       "      <td>call</td>\n",
       "      <td>370.8</td>\n",
       "      <td>home</td>\n",
       "      <td>287.6</td>\n",
       "      <td>guys</td>\n",
       "      <td>364.0</td>\n",
       "      <td>want</td>\n",
       "      <td>264.9</td>\n",
       "    </tr>\n",
       "    <tr>\n",
       "      <th>5</th>\n",
       "      <td>get</td>\n",
       "      <td>361.9</td>\n",
       "      <td>help</td>\n",
       "      <td>363.8</td>\n",
       "      <td>hours</td>\n",
       "      <td>272.4</td>\n",
       "      <td>know</td>\n",
       "      <td>355.2</td>\n",
       "      <td>ticket</td>\n",
       "      <td>249.7</td>\n",
       "    </tr>\n",
       "  </tbody>\n",
       "</table>\n",
       "</div>"
      ],
      "text/plain": [
       "  Topic 0 words Topic 0 weights Topic 1 words Topic 1 weights Topic 2 words  \\\n",
       "0  flight        3826.2          service       958.2           thanks         \n",
       "1  cancelled     1038.2          customer      748.2           back           \n",
       "2  delayed       529.9           hold          535.0           get            \n",
       "3  plane         508.2           phone         426.0           please         \n",
       "4  flightled     499.2           call          370.8           home           \n",
       "5  get           361.9           help          363.8           hours          \n",
       "\n",
       "  Topic 2 weights Topic 3 words Topic 3 weights Topic 4 words Topic 4 weights  \n",
       "0  1039.7          thank         583.2           flights       386.9           \n",
       "1  496.6           would         443.7           airline       384.3           \n",
       "2  423.1           like          425.5           fly           375.0           \n",
       "3  329.6           bag           376.2           way           291.2           \n",
       "4  287.6           guys          364.0           want          264.9           \n",
       "5  272.4           know          355.2           ticket        249.7           "
      ]
     },
     "execution_count": 18,
     "metadata": {},
     "output_type": "execute_result"
    }
   ],
   "source": [
    "def display_topics(model, feature_names, no_top_words):\n",
    "    topic_dict = {}\n",
    "    for topic_idx, topic in enumerate(model.components_):\n",
    "        topic_dict[\"Topic %d words\" % (topic_idx)]= ['{}'.format(feature_names[i])\n",
    "                        for i in topic.argsort()[:-no_top_words - 1:-1]]\n",
    "        topic_dict[\"Topic %d weights\" % (topic_idx)]= ['{:.1f}'.format(topic[i])\n",
    "                        for i in topic.argsort()[:-no_top_words - 1:-1]]\n",
    "    return pd.DataFrame(topic_dict)\n",
    "\n",
    "no_top_words = 6\n",
    "display_topics(model, tf_feature_names, no_top_words)"
   ]
  },
  {
   "cell_type": "markdown",
   "metadata": {},
   "source": [
    "### I tried to model the topic of the tweets using 6 topics. From the table above, it is clear that some of the tweets are about:\n",
    "#### 1) cancellation or delay of flights \n",
    "#### 2) seeking customer service help\n",
    "#### 3) other flight related issues such as bag, or seeking ticket or expressing gratitude"
   ]
  }
 ],
 "metadata": {
  "kernelspec": {
   "display_name": "Python 3",
   "language": "python",
   "name": "python3"
  },
  "language_info": {
   "codemirror_mode": {
    "name": "ipython",
    "version": 3
   },
   "file_extension": ".py",
   "mimetype": "text/x-python",
   "name": "python",
   "nbconvert_exporter": "python",
   "pygments_lexer": "ipython3",
   "version": "3.6.5"
  }
 },
 "nbformat": 4,
 "nbformat_minor": 2
}
